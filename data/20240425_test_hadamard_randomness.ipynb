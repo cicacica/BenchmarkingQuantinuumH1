{
 "cells": [
  {
   "cell_type": "code",
   "execution_count": 39,
   "id": "404997da-f673-44b4-aa3f-6bb6b963e903",
   "metadata": {},
   "outputs": [],
   "source": [
    "from pytket.extensions.nexus import Nexus, QuantinuumConfig\n",
    "#from pytket.extensions.quantinuum import QuantinuumBackend\n",
    "from pytket.extensions.nexus.backends import NexusBackend\n",
    "from pytket.backends.resulthandle import ResultHandle\n",
    "from pytket import Circuit\n",
    "from pytket.unit_id import BitRegister\n",
    "from pytket.circuit.display import render_circuit_jupyter\n",
    "import networkx as nx\n",
    "import matplotlib.pyplot as plt\n",
    "import math as ma \n",
    "import numpy as np\n",
    "import random as rm\n",
    "import pandas as pd\n",
    "import re\n",
    "import copy\n",
    "import warnings\n",
    "import sympy as sy\n",
    "import itertools\n",
    "import ast\n",
    "\n",
    "import sys\n",
    "from datetime import datetime\n",
    "sys.path.append('/home/jovyan/BenchmarkingQuantinuumH1/src')\n",
    "today_date = datetime.today().strftime('%Y%m%d')\n",
    "n_shots = 5000\n",
    "num_qubits = 5\n",
    "data_path = '/home/jovyan/BenchmarkingQuantinuumH1/data/'\n",
    "file_name = 'test_hadamard_randomness_per_shots.csv'\n",
    "emulator_name = 'H1-1E'\n",
    "data_name = data_path + today_date + '_'+ 'backend' + '_' + emulator_name + '_' + 'shots' + '_' + str(n_shots) + '_' + 'qubits' + '_' + str(num_qubits) + '_' + file_name\n",
    "\n",
    "\n",
    "\n",
    "import helper_functions as hf\n",
    "import circuits_version_02 as cv2"
   ]
  },
  {
   "cell_type": "code",
   "execution_count": 40,
   "id": "7d3ec789-5d4d-4b91-b011-c98ae8a029b8",
   "metadata": {},
   "outputs": [
    {
     "name": "stdout",
     "output_type": "stream",
     "text": [
      "\n",
      "Started using project with name: UBQC\n"
     ]
    }
   ],
   "source": [
    "my_new_quantinuum_exp = Nexus().get_project_by_name(\"UBQC\")\n",
    "configuration = QuantinuumConfig(device_name=\"H1-1E\", user_group=\"Default\")\n",
    "backend = NexusBackend(configuration, my_new_quantinuum_exp)\n",
    "\n",
    "#from pytket.extensions.quantinuum import QuantinuumBackend, QuantinuumAPIOffline\n",
    "#api_offline = QuantinuumAPIOffline()\n",
    "#backend = QuantinuumBackend(device_name=\"H1-1LE\", api_handler = api_offline)"
   ]
  },
  {
   "cell_type": "code",
   "execution_count": 42,
   "id": "6cfca381-32fd-4579-a561-ef224c514cea",
   "metadata": {},
   "outputs": [],
   "source": [
    "# Set up qircuit and registers\n",
    "c = Circuit()\n",
    "quantum_register = c.add_q_register(name=\"quantum_reg\", size=num_qubits)\n",
    "classic_register = c.add_c_register(name=\"classical_reg\", size=num_qubits)\n",
    "\n",
    "for index in range(num_qubits):\n",
    "    c.H(qubit=quantum_register[index])\n",
    "    c.Measure(qubit=quantum_register[index], bit=classic_register[index])\n",
    "    c.Reset(quantum_register[index])\n",
    "\n",
    "for index in range(num_qubits):\n",
    "    c.Reset(quantum_register[index])\n",
    "\n"
   ]
  },
  {
   "cell_type": "code",
   "execution_count": 43,
   "id": "dad66b54-ff6f-4599-91d8-ace144a63b88",
   "metadata": {},
   "outputs": [],
   "source": [
    "compiled_circuit = backend.get_compiled_circuit(c)"
   ]
  },
  {
   "cell_type": "code",
   "execution_count": 44,
   "id": "33daab19-2815-4350-b23a-995254f1efe5",
   "metadata": {},
   "outputs": [],
   "source": [
    "handle = backend.process_circuit(compiled_circuit, n_shots=n_shots)"
   ]
  },
  {
   "cell_type": "code",
   "execution_count": 45,
   "id": "ce27bc56-9793-4d49-8f3b-916444f525a1",
   "metadata": {},
   "outputs": [],
   "source": [
    "results = backend.get_result(handle)"
   ]
  },
  {
   "cell_type": "code",
   "execution_count": 11,
   "id": "bc598c96-a29a-46c2-a835-fb795ecf9823",
   "metadata": {},
   "outputs": [
    {
     "data": {
      "text/plain": [
       "25.0"
      ]
     },
     "execution_count": 11,
     "metadata": {},
     "output_type": "execute_result"
    }
   ],
   "source": [
    "#backend.cost(compiled_circuit, n_shots = 10, syntax_checker = \"H1-1SC\")\n",
    "from pytket.extensions.quantinuum import QuantinuumBackend\n",
    "q_backend = QuantinuumBackend(device_name=\"H1-1E\")\n",
    "q_backend.cost(compiled_circuit, n_shots = 1000, syntax_checker = \"H1-1SC\")"
   ]
  },
  {
   "cell_type": "code",
   "execution_count": 50,
   "id": "f0a9f2b1-3b83-498e-90b8-d31845963fb8",
   "metadata": {},
   "outputs": [
    {
     "data": {
      "image/png": "[encoded data removed]",
      "text/plain": [
       "<Figure size 640x480 with 1 Axes>"
      ]
     },
     "metadata": {},
     "output_type": "display_data"
    }
   ],
   "source": [
    "\n",
    "import matplotlib.pyplot as plt\n",
    "\n",
    "# Sample data\n",
    "data = list(results.get_distribution().values())\n",
    "# Plot histogram\n",
    "plt.hist(data, bins=12, color='skyblue', edgecolor='black')\n",
    "# Add labels and title\n",
    "plt.xlabel('Value')\n",
    "plt.ylabel('Frequency')\n",
    "plt.title('Histogram')\n",
    "\n",
    "# Show plot\n",
    "plt.show()\n"
   ]
  },
  {
   "cell_type": "code",
   "execution_count": 51,
   "id": "a17350f7-707b-469a-950c-2d8c5b46b4d4",
   "metadata": {},
   "outputs": [],
   "source": [
    "res = results.get_counts(cbits = c.get_c_register(name='classical_reg'))\n",
    "df = pd.DataFrame({'state':res.keys(),'count':res.values()})"
   ]
  },
  {
   "cell_type": "code",
   "execution_count": 52,
   "id": "6dfe0016-cae5-4f9a-90cf-9b856873cd8a",
   "metadata": {},
   "outputs": [],
   "source": [
    "df.to_csv(data_name)"
   ]
  },
  {
   "cell_type": "code",
   "execution_count": 53,
   "id": "a5648f1d-a0ca-4348-9bcb-bb08403198da",
   "metadata": {},
   "outputs": [
    {
     "data": {
      "text/plain": [
       "dict_values([168, 163, 132, 137, 166, 163, 144, 153, 143, 162, 141, 179, 151, 132, 152, 152, 186, 144, 162, 150, 171, 153, 142, 187, 155, 162, 175, 169, 147, 155, 134, 170])"
      ]
     },
     "execution_count": 53,
     "metadata": {},
     "output_type": "execute_result"
    }
   ],
   "source": [
    "res.values()"
   ]
  }
 ],
 "metadata": {
  "kernelspec": {
   "display_name": "Python 3 (ipykernel)",
   "language": "python",
   "name": "python3"
  },
  "language_info": {
   "codemirror_mode": {
    "name": "ipython",
    "version": 3
   },
   "file_extension": ".py",
   "mimetype": "text/x-python",
   "name": "python",
   "nbconvert_exporter": "python",
   "pygments_lexer": "ipython3",
   "version": "3.10.11"
  }
 },
 "nbformat": 4,
 "nbformat_minor": 5
}
