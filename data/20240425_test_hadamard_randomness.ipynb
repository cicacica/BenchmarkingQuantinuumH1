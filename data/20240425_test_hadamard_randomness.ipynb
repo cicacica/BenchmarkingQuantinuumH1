{
 "cells": [
  {
   "cell_type": "code",
   "execution_count": 141,
   "id": "404997da-f673-44b4-aa3f-6bb6b963e903",
   "metadata": {},
   "outputs": [],
   "source": [
    "from pytket.extensions.nexus import Nexus, QuantinuumConfig\n",
    "#from pytket.extensions.quantinuum import QuantinuumBackend\n",
    "from pytket.extensions.nexus.backends import NexusBackend\n",
    "from pytket.backends.resulthandle import ResultHandle\n",
    "from pytket import Circuit\n",
    "from pytket.unit_id import BitRegister\n",
    "from pytket.circuit.display import render_circuit_jupyter\n",
    "import networkx as nx\n",
    "import matplotlib.pyplot as plt\n",
    "import math as ma \n",
    "import numpy as np\n",
    "import random as rm\n",
    "import pandas as pd\n",
    "import re\n",
    "import copy\n",
    "import warnings\n",
    "import sympy as sy\n",
    "import itertools\n",
    "import ast\n",
    "\n",
    "import sys\n",
    "from datetime import datetime\n",
    "sys.path.append('/home/jovyan/BenchmarkingQuantinuumH1/src')\n",
    "today_date = datetime.today().strftime('%Y%m%d')\n",
    "n_shots = 5000\n",
    "num_qubits = 5\n",
    "data_path = '/home/jovyan/BenchmarkingQuantinuumH1/data/'\n",
    "fig_path =  '/home/jovyan/BenchmarkingQuantinuumH1/fig/'\n",
    "file_name = 'test_hadamard_randomness_per_shots.csv'\n",
    "\n",
    "emulator_name = 'H1-1LE'\n",
    "data_name = data_path + today_date + '_'+ 'backend' + '_' + emulator_name + '_' + 'shots' + '_' + str(n_shots) + '_' + 'qubits' + '_' + str(num_qubits) + '_' + file_name\n",
    "fig_name = fig_path  + today_date + '_'+ 'backend' + '_' + emulator_name + '_' + 'shots' + '_' + str(n_shots) + '_' + 'qubits' + '_' + str(num_qubits) + '_'\n",
    "\n",
    "import bitwise_operations as bo\n",
    "import helper_functions as hf\n",
    "import circuits_version_02 as cv2\n",
    "\n",
    "boc = bo.BitwiseOperations()"
   ]
  },
  {
   "cell_type": "code",
   "execution_count": 142,
   "id": "7d3ec789-5d4d-4b91-b011-c98ae8a029b8",
   "metadata": {},
   "outputs": [],
   "source": [
    "if emulator_name == \"H1-1E\":\n",
    "    my_new_quantinuum_exp = Nexus().get_project_by_name(\"UBQC\")\n",
    "    configuration = QuantinuumConfig(device_name=emulator_name, user_group=\"Default\")\n",
    "    backend = NexusBackend(configuration, my_new_quantinuum_exp)\n",
    "elif emulator_name == \"H1-1LE\":\n",
    "    from pytket.extensions.quantinuum import QuantinuumBackend, QuantinuumAPIOffline\n",
    "    api_offline = QuantinuumAPIOffline()\n",
    "    backend = QuantinuumBackend(device_name=emulator_name, api_handler = api_offline)\n",
    "else: \n",
    "    print(\"Nothing to see here\")"
   ]
  },
  {
   "cell_type": "code",
   "execution_count": 143,
   "id": "6cfca381-32fd-4579-a561-ef224c514cea",
   "metadata": {},
   "outputs": [],
   "source": [
    "# Set up qircuit and registers\n",
    "c = Circuit()\n",
    "quantum_register = c.add_q_register(name=\"quantum_reg\", size=num_qubits)\n",
    "classic_register_rand = c.add_c_register(name=\"classical_reg_rand\", size=num_qubits)\n",
    "classic_register_post_reset = c.add_c_register(name=\"classical_reg_post_reset\", size=num_qubits)\n",
    "\n",
    "for index in range(num_qubits):\n",
    "    c.H(qubit=quantum_register[index])\n",
    "    c.Measure(qubit=quantum_register[index], bit=classic_register_rand[index])\n",
    "    c.Reset(quantum_register[index])\n",
    "\n",
    "for index in range(num_qubits):\n",
    "    c.Reset(quantum_register[index])\n",
    "\n",
    "\n",
    "for index in range(num_qubits):\n",
    "    c.Measure(qubit=quantum_register[index], bit=classic_register_post_reset[index])\n"
   ]
  },
  {
   "cell_type": "code",
   "execution_count": 144,
   "id": "dad66b54-ff6f-4599-91d8-ace144a63b88",
   "metadata": {},
   "outputs": [],
   "source": [
    "compiled_circuit = backend.get_compiled_circuit(c)"
   ]
  },
  {
   "cell_type": "code",
   "execution_count": 145,
   "id": "33daab19-2815-4350-b23a-995254f1efe5",
   "metadata": {},
   "outputs": [],
   "source": [
    "handle = backend.process_circuit(compiled_circuit, n_shots=n_shots)"
   ]
  },
  {
   "cell_type": "code",
   "execution_count": 146,
   "id": "ce27bc56-9793-4d49-8f3b-916444f525a1",
   "metadata": {},
   "outputs": [],
   "source": [
    "results = backend.get_result(handle)"
   ]
  },
  {
   "cell_type": "code",
   "execution_count": 11,
   "id": "bc598c96-a29a-46c2-a835-fb795ecf9823",
   "metadata": {},
   "outputs": [
    {
     "data": {
      "text/plain": [
       "25.0"
      ]
     },
     "execution_count": 11,
     "metadata": {},
     "output_type": "execute_result"
    }
   ],
   "source": [
    "#backend.cost(compiled_circuit, n_shots = 10, syntax_checker = \"H1-1SC\")\n",
    "from pytket.extensions.quantinuum import QuantinuumBackend\n",
    "q_backend = QuantinuumBackend(device_name=\"H1-1E\")\n",
    "q_backend.cost(compiled_circuit, n_shots = 1000, syntax_checker = \"H1-1SC\")"
   ]
  },
  {
   "cell_type": "code",
   "execution_count": 147,
   "id": "a17350f7-707b-469a-950c-2d8c5b46b4d4",
   "metadata": {},
   "outputs": [],
   "source": [
    "res_rand = results.get_counts(cbits = c.get_c_register(name='classical_reg_rand'))\n",
    "res_post = results.get_counts(cbits = c.get_c_register(name='classical_reg_post_reset'))\n",
    "data_rand = boc.return_complete_distribution(num_qubits,res_rand)\n",
    "data_post = boc.return_complete_distribution(num_qubits,res_post)"
   ]
  },
  {
   "cell_type": "code",
   "execution_count": 148,
   "id": "41ceb852-a5db-4da4-bdd8-067de45022ca",
   "metadata": {},
   "outputs": [],
   "source": [
    "df = pd.DataFrame({'state':data_rand.keys(),'random_counts':data_rand.values(),'post_reset_counts':data_post.values()})"
   ]
  },
  {
   "cell_type": "code",
   "execution_count": 149,
   "id": "6dfe0016-cae5-4f9a-90cf-9b856873cd8a",
   "metadata": {},
   "outputs": [],
   "source": [
    "df.to_csv(data_name)"
   ]
  },
  {
   "cell_type": "code",
   "execution_count": 150,
   "id": "7175bc20-93e3-46b9-a3c2-4f1bc33fcffe",
   "metadata": {},
   "outputs": [],
   "source": [
    "data = boc.return_complete_distribution(num_qubits,data_rand)\n",
    "labels = list(range(2**num_qubits))\n",
    "string_data = [''.join(map(str, l)) for l in list(data.keys())]\n",
    "values = list(data.values())\n"
   ]
  },
  {
   "cell_type": "code",
   "execution_count": 151,
   "id": "f9cb7005-abbd-47de-9305-96209969a467",
   "metadata": {},
   "outputs": [
    {
     "data": {
      "image/png": "[encoded data removed]",
      "text/plain": [
       "<Figure size 640x480 with 1 Axes>"
      ]
     },
     "metadata": {},
     "output_type": "display_data"
    }
   ],
   "source": [
    "\n",
    "# Plot\n",
    "plt.bar(labels, values)\n",
    "# Set custom tick labels\n",
    "plt.xticks(ticks=labels, labels=string_data, rotation='vertical')\n",
    "plt.xlabel('Bits')\n",
    "plt.ylabel('Count')\n",
    "plt.title(f'Hadamard based random digits on {num_qubits} qubits')\n",
    "plt.ylim(bottom=-1)\n",
    "plt.savefig(fig_name + 'per_state_count.png')\n",
    "\n",
    "plt.show()"
   ]
  },
  {
   "cell_type": "code",
   "execution_count": 98,
   "id": "d01e7571-d25e-478c-a704-f85a75a23bbf",
   "metadata": {},
   "outputs": [
    {
     "data": {
      "text/plain": [
       "'/home/jovyan/BenchmarkingQuantinuumH1/fig/20240426_backend_H1-1E_shots_5000_qubits_5_per_state_count.png'"
      ]
     },
     "execution_count": 98,
     "metadata": {},
     "output_type": "execute_result"
    }
   ],
   "source": []
  }
 ],
 "metadata": {
  "kernelspec": {
   "display_name": "Python 3 (ipykernel)",
   "language": "python",
   "name": "python3"
  },
  "language_info": {
   "codemirror_mode": {
    "name": "ipython",
    "version": 3
   },
   "file_extension": ".py",
   "mimetype": "text/x-python",
   "name": "python",
   "nbconvert_exporter": "python",
   "pygments_lexer": "ipython3",
   "version": "3.10.11"
  }
 },
 "nbformat": 4,
 "nbformat_minor": 5
}
