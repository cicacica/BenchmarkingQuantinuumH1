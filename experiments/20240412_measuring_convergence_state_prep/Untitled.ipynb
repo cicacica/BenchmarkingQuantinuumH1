{
 "cells": [
  {
   "cell_type": "code",
   "execution_count": 7,
   "id": "f45997bc-8068-42a6-81ee-cd03ae8abc17",
   "metadata": {},
   "outputs": [
    {
     "data": {
      "text/html": [
       "\n",
       "\n",
       "\n",
       "\n",
       "\n",
       "\n",
       "<div style=\"resize: vertical; overflow: auto; height: 400px; display: block\">\n",
       "    <iframe srcdoc=\"\n",
       "&lt;!DOCTYPE html&gt;\n",
       "&lt;html lang=&#34;en&#34;&gt;\n",
       "&lt;head&gt;\n",
       "    &lt;meta charset=&#34;UTF-8&#34;&gt;\n",
       "    &lt;!-- Download Vue 3--&gt;\n",
       "&lt;script type=&#34;application/javascript&#34; src=&#34;https://cdn.jsdelivr.net/npm/vue@3&#34;&gt;&lt;/script&gt;\n",
       "&lt;!-- Download Circuit Renderer with styles --&gt;\n",
       "&lt;script type=&#34;application/javascript&#34; src=&#34;https://unpkg.com/pytket-circuit-renderer@0.7/dist/pytket-circuit-renderer.umd.js&#34;&gt;&lt;/script&gt;\n",
       "&lt;link rel=&#34;stylesheet&#34; href=&#34;https://unpkg.com/pytket-circuit-renderer@0.7/dist/pytket-circuit-renderer.css&#34;&gt;\n",
       "&lt;/head&gt;\n",
       "&lt;body&gt;\n",
       "\n",
       "\n",
       "\n",
       "    &lt;div id=&#34;circuit-display-vue-container-9c0ebdf5-20be-4097-88b9-57f893fabf53&#34; class=&#34;pytket-circuit-display-container&#34;&gt;\n",
       "        &lt;div style=&#34;display: none&#34;&gt;\n",
       "            &lt;div id=&#34;circuit-json-to-display&#34;&gt;{&#34;bits&#34;: [[&#34;condition&#34;, [0]], [&#34;measure&#34;, [0]], [&#34;measure&#34;, [1]]], &#34;commands&#34;: [{&#34;args&#34;: [[&#34;qubits&#34;, [2]], [&#34;measure&#34;, [1]]], &#34;op&#34;: {&#34;type&#34;: &#34;Measure&#34;}}, {&#34;args&#34;: [[&#34;qubits&#34;, [0]]], &#34;op&#34;: {&#34;type&#34;: &#34;H&#34;}}, {&#34;args&#34;: [[&#34;qubits&#34;, [0]], [&#34;condition&#34;, [0]]], &#34;op&#34;: {&#34;type&#34;: &#34;Measure&#34;}}, {&#34;args&#34;: [[&#34;condition&#34;, [0]], [&#34;qubits&#34;, [1]]], &#34;op&#34;: {&#34;conditional&#34;: {&#34;op&#34;: {&#34;type&#34;: &#34;X&#34;}, &#34;value&#34;: 1, &#34;width&#34;: 1}, &#34;type&#34;: &#34;Conditional&#34;}}, {&#34;args&#34;: [[&#34;qubits&#34;, [1]], [&#34;measure&#34;, [0]]], &#34;op&#34;: {&#34;type&#34;: &#34;Measure&#34;}}], &#34;created_qubits&#34;: [], &#34;discarded_qubits&#34;: [], &#34;implicit_permutation&#34;: [[[&#34;qubits&#34;, [0]], [&#34;qubits&#34;, [0]]], [[&#34;qubits&#34;, [1]], [&#34;qubits&#34;, [1]]], [[&#34;qubits&#34;, [2]], [&#34;qubits&#34;, [2]]]], &#34;phase&#34;: &#34;0.0&#34;, &#34;qubits&#34;: [[&#34;qubits&#34;, [0]], [&#34;qubits&#34;, [1]], [&#34;qubits&#34;, [2]]]}&lt;/div&gt;\n",
       "        &lt;/div&gt;\n",
       "        &lt;circuit-display-container\n",
       "                :circuit-element-str=&#34;&#39;#circuit-json-to-display&#39;&#34;\n",
       "                :init-render-options=&#34;initRenderOptions&#34;\n",
       "        &gt;&lt;/circuit-display-container&gt;\n",
       "    &lt;/div&gt;\n",
       "    &lt;script type=&#34;application/javascript&#34;&gt;\n",
       "      const circuitRendererUid = &#34;9c0ebdf5-20be-4097-88b9-57f893fabf53&#34;;\n",
       "      const displayOptions = JSON.parse(&#39;{}&#39;);\n",
       "\n",
       "      // Script to initialise the circuit renderer app\n",
       "\n",
       "const { createApp } = Vue;\n",
       "const circuitDisplayContainer = window[&#34;pytket-circuit-renderer&#34;].default;\n",
       "// Init variables to be shared between circuit display instances\n",
       "if (typeof window.pytketCircuitDisplays === &#34;undefined&#34;) {\n",
       "    window.pytketCircuitDisplays = {};\n",
       "}\n",
       "// Create the root Vue component\n",
       "const app = createApp({\n",
       "    delimiters: [&#39;[[#&#39;, &#39;#]]&#39;],\n",
       "    components: { circuitDisplayContainer },\n",
       "    data () {\n",
       "      return {\n",
       "        initRenderOptions: displayOptions,\n",
       "      }\n",
       "    }\n",
       "})\n",
       "app.config.unwrapInjectedRef = true;\n",
       "app.mount(&#34;#circuit-display-vue-container-&#34;+circuitRendererUid);\n",
       "window.pytketCircuitDisplays[circuitRendererUid] = app;\n",
       "    &lt;/script&gt;\n",
       "\n",
       "\n",
       "\n",
       "&lt;/body&gt;\n",
       "&lt;/html&gt;\n",
       "\"\n",
       "            width=\"100%\" height=\"100%\"\n",
       "            style=\"border: none; outline: none; overflow: auto\"></iframe>\n",
       "</div>\n",
       "\n"
      ],
      "text/plain": [
       "<IPython.core.display.HTML object>"
      ]
     },
     "metadata": {},
     "output_type": "display_data"
    },
    {
     "name": "stdout",
     "output_type": "stream",
     "text": [
      "Measure register:  Counter({(0, 0): 51, (1, 0): 49})\n",
      "Condition register:  Counter({(0,): 51, (1,): 49})\n"
     ]
    }
   ],
   "source": [
    "from pytket import Circuit\n",
    "from pytket.circuit.display import render_circuit_jupyter\n",
    "from pytket.extensions.quantinuum import QuantinuumBackend, QuantinuumAPIOffline\n",
    "\n",
    "api_offline = QuantinuumAPIOffline()\n",
    "backend = QuantinuumBackend(device_name=\"H1-1LE\", api_handler = api_offline)\n",
    "\n",
    "circuit = Circuit()\n",
    "qubits = circuit.add_q_register(name='qubits', size=3)\n",
    "condition_reg = circuit.add_c_register(name='condition', size=1)\n",
    "measure_reg = circuit.add_c_register(name='measure', size=2)\n",
    "\n",
    "circuit.H(qubits[0])\n",
    "circuit.Measure(qubit=qubits[0], bit=condition_reg[0])\n",
    "circuit.X(qubit=qubits[1], condition=condition_reg[0])\n",
    "circuit.Measure(qubit=qubits[1], bit=measure_reg[0])\n",
    "circuit.Measure(qubit=qubits[2], bit=measure_reg[1])\n",
    "render_circuit_jupyter(circuit)\n",
    "\n",
    "backend.rebase_pass().apply(circuit)\n",
    "result = backend.run_circuit(circuit, n_shots=100)\n",
    "print(\"Measure register: \", result.get_counts(cbits=measure_reg))\n",
    "print(\"Condition register: \", result.get_counts(cbits=condition_reg))"
   ]
  },
  {
   "cell_type": "code",
   "execution_count": 10,
   "id": "356efd97-f44b-4b1c-a023-80163c0060a7",
   "metadata": {},
   "outputs": [
    {
     "data": {
      "text/plain": [
       "Counter({(0, 0, 0): 51, (1, 1, 0): 49})"
      ]
     },
     "execution_count": 10,
     "metadata": {},
     "output_type": "execute_result"
    }
   ],
   "source": [
    "result.get_counts()"
   ]
  },
  {
   "cell_type": "code",
   "execution_count": null,
   "id": "4c5bcd63-e645-4d11-af9e-ad0c6010297e",
   "metadata": {},
   "outputs": [],
   "source": [
    "from pytket import Circuit\n",
    "from pytket.circuit.display import render_circuit_jupyter\n",
    "from pytket.extensions.quantinuum import QuantinuumBackend, QuantinuumAPIOffline\n",
    "\n",
    "circ = Circuit()\n",
    "\n",
    "# Initialise registers\n",
    "q_register = circ.add_q_register(name='qubits', size=1)\n",
    "c_register = circ.add_c_register(name='conditions', size=3)\n",
    "m_register = circ.add_c_register(name='measures', size=1)\n",
    "\n",
    "# Generate the random number\n",
    "for cbit in c_register:\n",
    "    circ.H(q_register[0])\n",
    "    circ.Measure(q_register[0], cbit)\n",
    "    circ.Reset(q_register[0])\n",
    "\n",
    "# Add a barrier to seperate from main circuit\n",
    "circ.add_barrier(q_register)\n",
    "\n",
    "# Rotation\n",
    "circ.Rz(0.25, q_register[0])\n",
    "\n",
    "# Random measurement rotations\n",
    "circ.T(q_register[0], condition=c_register[0])\n",
    "circ.S(q_register[0], condition=c_register[1])\n",
    "circ.Z(q_register[0], condition=c_register[2])\n",
    "\n",
    "circ.Measure(q_register[0], m_register[0])\n",
    "\n",
    "render_circuit_jupyter(circ)\n",
    "\n",
    "api_offline = QuantinuumAPIOffline()\n",
    "backend = QuantinuumBackend(device_name=\"H1-1LE\", api_handler = api_offline)\n",
    "compiled_circ = backend.get_compiled_circuit(circ, optimisation_level=0)\n",
    "results = backend.run_circuit(compiled_circ, n_shots=1)\n",
    "\n",
    "print(results.get_counts(cbits=m_register))\n",
    "print(results.get_counts(cbits=c_register))"
   ]
  }
 ],
 "metadata": {
  "kernelspec": {
   "display_name": "Python 3 (ipykernel)",
   "language": "python",
   "name": "python3"
  },
  "language_info": {
   "codemirror_mode": {
    "name": "ipython",
    "version": 3
   },
   "file_extension": ".py",
   "mimetype": "text/x-python",
   "name": "python",
   "nbconvert_exporter": "python",
   "pygments_lexer": "ipython3",
   "version": "3.10.11"
  }
 },
 "nbformat": 4,
 "nbformat_minor": 5
}
