{
 "cells": [
  {
   "cell_type": "code",
   "execution_count": 1,
   "id": "9e437217-ab22-470d-9255-e5b88ed8bd36",
   "metadata": {},
   "outputs": [],
   "source": [
    "from pytket.extensions.nexus import Nexus, QuantinuumConfig\n",
    "#from pytket.extensions.quantinuum import QuantinuumBackend\n",
    "from pytket.extensions.nexus.backends import NexusBackend\n",
    "from pytket.backends.resulthandle import ResultHandle\n",
    "from pytket import Circuit\n",
    "from pytket.unit_id import BitRegister\n",
    "from pytket.circuit.display import render_circuit_jupyter\n",
    "import networkx as nx\n",
    "import matplotlib.pyplot as plt\n",
    "import math as ma \n",
    "import numpy as np\n",
    "import random as rm\n",
    "import pandas as pd\n",
    "import re\n",
    "import copy\n",
    "import warnings\n",
    "import sympy as sy\n",
    "import itertools\n",
    "import ast\n",
    "from datetime import datetime\n",
    "import sys\n",
    "sys.path.append('/home/jovyan/BenchmarkingQuantinuumH1/src')\n",
    "today_date = datetime.today().strftime('%Y%m%d')\n",
    "data_path = '/home/jovyan/BenchmarkingQuantinuumH1/data/'\n",
    "file_name = 'circuit_01_output_per_shots.csv'\n",
    "data_name = data_path + today_date + '_'+ file_name\n",
    "\n",
    "import helper_functions as hf\n",
    "import circuits_version_02 as cv2"
   ]
  },
  {
   "cell_type": "code",
   "execution_count": 2,
   "id": "e20c3094-05a0-4681-a497-30fe293dfbb0",
   "metadata": {},
   "outputs": [
    {
     "name": "stdout",
     "output_type": "stream",
     "text": [
      "\n",
      "Started using project with name: UBQC\n"
     ]
    }
   ],
   "source": [
    "my_new_quantinuum_exp = Nexus().get_project_by_name(\"UBQC\")\n",
    "configuration = QuantinuumConfig(device_name=\"H1-1E\", user_group=\"Default\")\n",
    "backend = NexusBackend(configuration, my_new_quantinuum_exp)\n",
    "\n",
    "#from pytket.extensions.quantinuum import QuantinuumBackend, QuantinuumAPIOffline\n",
    "#api_offline = QuantinuumAPIOffline()\n",
    "#backend = QuantinuumBackend(device_name=\"H1-1LE\", api_handler = api_offline)"
   ]
  },
  {
   "cell_type": "code",
   "execution_count": 3,
   "id": "3833fc0e-57e1-4b9a-8be8-110b41b9bea7",
   "metadata": {},
   "outputs": [],
   "source": [
    "n_shots = 100"
   ]
  },
  {
   "cell_type": "code",
   "execution_count": 3,
   "id": "e8dd3922-a379-467e-ac07-cc593a1ef17c",
   "metadata": {},
   "outputs": [],
   "source": [
    "circuit = cv2.circuit_01()\n",
    "compiled_circuit = backend.get_compiled_circuit(circuit)"
   ]
  },
  {
   "cell_type": "code",
   "execution_count": 5,
   "id": "847f47a8-1925-47cc-88dd-d85f1083be26",
   "metadata": {},
   "outputs": [],
   "source": [
    "handle = backend.process_circuit(compiled_circuit, n_shots=n_shots)"
   ]
  },
  {
   "cell_type": "code",
   "execution_count": 17,
   "id": "ef199439-ef27-4352-b3c3-b128566d8ab2",
   "metadata": {},
   "outputs": [],
   "source": [
    "#backend.cost(compiled_circuit, n_shots = 10, syntax_checker = \"H1-1SC\")\n",
    "#backend.cost(compiled_circuit, n_shots = 10, syntax_checker = \"H1-1SC\")\n",
    "from pytket.extensions.quantinuum import QuantinuumBackend\n",
    "q_backend = QuantinuumBackend(device_name=\"H1-1E\")"
   ]
  },
  {
   "cell_type": "code",
   "execution_count": 22,
   "id": "dec8ac24-9455-404a-bf8c-ca822b2b046b",
   "metadata": {},
   "outputs": [
    {
     "data": {
      "text/plain": [
       "range(1, 10000, 100)"
      ]
     },
     "execution_count": 22,
     "metadata": {},
     "output_type": "execute_result"
    }
   ],
   "source": []
  },
  {
   "cell_type": "code",
   "execution_count": 24,
   "id": "f31770e1-ce19-4b72-8fdd-9dc3be9db186",
   "metadata": {},
   "outputs": [],
   "source": [
    "shot_list = range(1, 5000, 500)\n",
    "cost_est = [q_backend.cost(compiled_circuit, n_shots = i, syntax_checker = \"H1-1SC\") for i in shot_list]"
   ]
  },
  {
   "cell_type": "code",
   "execution_count": 26,
   "id": "32feb9e6-2299-43c8-92bd-23f86b9084d6",
   "metadata": {},
   "outputs": [
    {
     "data": {
      "text/plain": [
       "[5.001,\n",
       " 0.010980039920159682,\n",
       " 0.005995004995004994,\n",
       " 0.004331112591605596,\n",
       " 0.003498750624687656,\n",
       " 0.0029992003198720508,\n",
       " 0.002666111296234588,\n",
       " 0.002428163381890888,\n",
       " 0.002249687578105474,\n",
       " 0.0021108642523883585]"
      ]
     },
     "execution_count": 26,
     "metadata": {},
     "output_type": "execute_result"
    }
   ],
   "source": [
    "[i/j for i,j in zip(cost_est,shot_list)]"
   ]
  },
  {
   "cell_type": "code",
   "execution_count": 29,
   "id": "a519108d-12f4-4d0c-b561-dfeb47b5902f",
   "metadata": {},
   "outputs": [
    {
     "data": {
      "text/plain": [
       "[(0, 4), (1, 5), (2, 6)]"
      ]
     },
     "execution_count": 29,
     "metadata": {},
     "output_type": "execute_result"
    }
   ],
   "source": [
    "[(i,j) for i,j in zip(range(5),range(4,7))]"
   ]
  },
  {
   "cell_type": "code",
   "execution_count": 25,
   "id": "224c0c33-e80e-4e69-a1d7-abfb445c70cd",
   "metadata": {},
   "outputs": [
    {
     "data": {
      "image/png": "[encoded data removed]",
      "text/plain": [
       "<Figure size 640x480 with 1 Axes>"
      ]
     },
     "metadata": {},
     "output_type": "display_data"
    }
   ],
   "source": [
    "# Plot scatter plot\n",
    "plt.scatter(shot_list, cost_est)\n",
    "\n",
    "# Add labels and title\n",
    "plt.xlabel('Number of shots')\n",
    "plt.ylabel('Estimated Cost')\n",
    "\n",
    "# Show plot\n",
    "plt.show()"
   ]
  },
  {
   "cell_type": "code",
   "execution_count": 69,
   "id": "05385be5-d97e-491f-b84d-6794c62a1da7",
   "metadata": {},
   "outputs": [],
   "source": [
    "results = backend.get_result(handle)"
   ]
  },
  {
   "cell_type": "code",
   "execution_count": 70,
   "id": "00c5bd70-5669-436e-a5c3-44c7f66e0dd1",
   "metadata": {},
   "outputs": [],
   "source": [
    "class_ran_bit = results.get_shots(cbits = circuit.get_c_register(name=\"classical_reg\"))\n",
    "z_res_rand_bit = results.get_shots(cbits = circuit.get_c_register(name='Z_condition_gate_reg'))\n",
    "z_basis_rand_bit = results.get_shots(cbits = circuit.get_c_register(name='Z_condition_reg'))\n",
    "x_basis_rand_bit = results.get_shots(cbits = circuit.get_c_register(name='X_condition_reg'))\n",
    "c_res_bits = [i[0] for i in class_ran_bit]\n",
    "z_res_bits = [i[0] for i in z_res_rand_bit]\n",
    "z_basis_bits = [i[0] for i in z_basis_rand_bit]\n",
    "x_basis_bits = [i[0] for i in x_basis_rand_bit]\n",
    "sdg_column = [i & j for i,j in zip(z_basis_bits,x_basis_bits)]\n",
    "basis = [hf.func_2_str_basis_letter(hf.generate_basis_from_two_bits(bit1, bit2)) for bit1,bit2 in zip(z_basis_bits,x_basis_bits)]\n",
    "shot_num = [i+1 for i in range(len(c_res_bits))]"
   ]
  },
  {
   "cell_type": "code",
   "execution_count": 71,
   "id": "4c297d18-b6c5-4fa7-8495-b6ad562aaa02",
   "metadata": {},
   "outputs": [],
   "source": [
    "df = pd.DataFrame({'Shot_num':shot_num,'Z_gate_cond_bit':z_res_bits,'Z_bit_basis':z_basis_bits,'X_bit_basis':x_basis_bits,'Sdg_gate_applied':sdg_column,'H_gate_applied':x_basis_bits,'Measure_basis':basis,'Outcome':c_res_bits})"
   ]
  },
  {
   "cell_type": "code",
   "execution_count": 72,
   "id": "a4847311-0ac4-4e01-9357-f824fe5dde45",
   "metadata": {},
   "outputs": [],
   "source": [
    "df.to_csv(data_name)"
   ]
  }
 ],
 "metadata": {
  "kernelspec": {
   "display_name": "Python 3 (ipykernel)",
   "language": "python",
   "name": "python3"
  },
  "language_info": {
   "codemirror_mode": {
    "name": "ipython",
    "version": 3
   },
   "file_extension": ".py",
   "mimetype": "text/x-python",
   "name": "python",
   "nbconvert_exporter": "python",
   "pygments_lexer": "ipython3",
   "version": "3.10.11"
  }
 },
 "nbformat": 4,
 "nbformat_minor": 5
}
