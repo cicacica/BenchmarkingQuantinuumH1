{
 "cells": [
  {
   "cell_type": "code",
   "execution_count": 3,
   "id": "9e437217-ab22-470d-9255-e5b88ed8bd36",
   "metadata": {},
   "outputs": [],
   "source": [
    "from pytket.extensions.nexus import Nexus, QuantinuumConfig\n",
    "#from pytket.extensions.quantinuum import QuantinuumBackend\n",
    "from pytket.extensions.nexus.backends import NexusBackend\n",
    "from pytket.backends.resulthandle import ResultHandle\n",
    "from pytket import Circuit\n",
    "from pytket.unit_id import BitRegister\n",
    "from pytket.circuit.display import render_circuit_jupyter\n",
    "import networkx as nx\n",
    "import matplotlib.pyplot as plt\n",
    "import math as ma \n",
    "import numpy as np\n",
    "import random as rm\n",
    "import pandas as pd\n",
    "import re\n",
    "import copy\n",
    "import warnings\n",
    "import sympy as sy\n",
    "import itertools\n",
    "import ast\n",
    "\n",
    "import sys\n",
    "sys.path.append('/home/jovyan/BenchmarkingQuantinuumH1/src')\n",
    "\n",
    "import helper_functions as hf\n",
    "import circuits_version_02 as cv2"
   ]
  },
  {
   "cell_type": "code",
   "execution_count": 4,
   "id": "e20c3094-05a0-4681-a497-30fe293dfbb0",
   "metadata": {},
   "outputs": [
    {
     "name": "stdout",
     "output_type": "stream",
     "text": [
      "\n",
      "Started using project with name: UBQC\n"
     ]
    }
   ],
   "source": [
    "#my_new_quantinuum_exp = Nexus().get_project_by_name(\"UBQC\")\n",
    "#configuration = QuantinuumConfig(device_name=\"H1-1E\", user_group=\"Default\")\n",
    "#backend = QuantinuumBackend(configuration, my_new_quantinuum_exp)\n",
    "\n",
    "my_new_quantinuum_exp = Nexus().get_project_by_name(\"UBQC\")\n",
    "configuration = QuantinuumConfig(device_name=\"H1-1\", user_group=\"Default\")\n",
    "backend = NexusBackend(configuration, my_new_quantinuum_exp)\n",
    "\n",
    "#from pytket.extensions.quantinuum import QuantinuumBackend, QuantinuumAPIOffline\n",
    "#api_offline = QuantinuumAPIOffline()\n",
    "#backend = QuantinuumBackend(device_name=\"H1-1LE\", api_handler = api_offline)"
   ]
  },
  {
   "cell_type": "code",
   "execution_count": null,
   "id": "f1870ca2-cbc7-4679-b18c-42a170d732e8",
   "metadata": {},
   "outputs": [],
   "source": [
    "circuit = cv2.circuit_01()\n",
    "compiled_circuit = backend.get_compiled_circuit(circuit)\n",
    "backend.cost(compiled_circuit,n_shots = 10)"
   ]
  }
 ],
 "metadata": {
  "kernelspec": {
   "display_name": "Python 3 (ipykernel)",
   "language": "python",
   "name": "python3"
  },
  "language_info": {
   "codemirror_mode": {
    "name": "ipython",
    "version": 3
   },
   "file_extension": ".py",
   "mimetype": "text/x-python",
   "name": "python",
   "nbconvert_exporter": "python",
   "pygments_lexer": "ipython3",
   "version": "3.10.11"
  }
 },
 "nbformat": 4,
 "nbformat_minor": 5
}
