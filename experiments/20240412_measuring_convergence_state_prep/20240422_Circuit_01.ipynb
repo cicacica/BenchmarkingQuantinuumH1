{
 "cells": [
  {
   "cell_type": "code",
   "execution_count": 6,
   "id": "9e437217-ab22-470d-9255-e5b88ed8bd36",
   "metadata": {},
   "outputs": [],
   "source": [
    "from pytket.extensions.nexus import Nexus, QuantinuumConfig\n",
    "#from pytket.extensions.quantinuum import QuantinuumBackend\n",
    "from pytket.extensions.nexus.backends import NexusBackend\n",
    "from pytket.backends.resulthandle import ResultHandle\n",
    "from pytket import Circuit\n",
    "from pytket.unit_id import BitRegister\n",
    "from pytket.circuit.display import render_circuit_jupyter\n",
    "import networkx as nx\n",
    "import matplotlib.pyplot as plt\n",
    "import math as ma \n",
    "import numpy as np\n",
    "import random as rm\n",
    "import pandas as pd\n",
    "import re\n",
    "import copy\n",
    "import warnings\n",
    "import sympy as sy\n",
    "import itertools\n",
    "import ast\n",
    "from datetime import datetime\n",
    "import sys\n",
    "sys.path.append('/home/jovyan/BenchmarkingQuantinuumH1/src')\n",
    "today_date = datetime.today().strftime('%Y%m%d')\n",
    "data_path = '/home/jovyan/BenchmarkingQuantinuumH1/data/'\n",
    "file_name = 'circuit_01_output_per_shots.csv'\n",
    "emulator_name = 'H1-1E'\n",
    "data_name = data_path + today_date + '_'+ emulator_name + '_' + file_name\n",
    "\n",
    "import helper_functions as hf\n",
    "import circuits_version_02 as cv2"
   ]
  },
  {
   "cell_type": "code",
   "execution_count": 2,
   "id": "e20c3094-05a0-4681-a497-30fe293dfbb0",
   "metadata": {},
   "outputs": [
    {
     "name": "stdout",
     "output_type": "stream",
     "text": [
      "\n",
      "Started using project with name: UBQC\n"
     ]
    }
   ],
   "source": [
    "my_new_quantinuum_exp = Nexus().get_project_by_name(\"UBQC\")\n",
    "configuration = QuantinuumConfig(device_name=\"H1-1E\", user_group=\"Default\")\n",
    "backend = NexusBackend(configuration, my_new_quantinuum_exp)\n",
    "\n",
    "#from pytket.extensions.quantinuum import QuantinuumBackend, QuantinuumAPIOffline\n",
    "#api_offline = QuantinuumAPIOffline()\n",
    "#backend = QuantinuumBackend(device_name=\"H1-1LE\", api_handler = api_offline)"
   ]
  },
  {
   "cell_type": "code",
   "execution_count": 3,
   "id": "3833fc0e-57e1-4b9a-8be8-110b41b9bea7",
   "metadata": {},
   "outputs": [],
   "source": [
    "n_shots = 5000"
   ]
  },
  {
   "cell_type": "code",
   "execution_count": 4,
   "id": "e8dd3922-a379-467e-ac07-cc593a1ef17c",
   "metadata": {},
   "outputs": [],
   "source": [
    "circuit = cv2.circuit_01()\n",
    "compiled_circuit = backend.get_compiled_circuit(circuit)"
   ]
  },
  {
   "cell_type": "code",
   "execution_count": 12,
   "id": "847f47a8-1925-47cc-88dd-d85f1083be26",
   "metadata": {},
   "outputs": [],
   "source": [
    "handle = backend.process_circuit(compiled_circuit, n_shots=n_shots)"
   ]
  },
  {
   "cell_type": "code",
   "execution_count": 8,
   "id": "ef199439-ef27-4352-b3c3-b128566d8ab2",
   "metadata": {},
   "outputs": [],
   "source": [
    "from pytket.extensions.quantinuum import QuantinuumBackend\n",
    "q_backend = QuantinuumBackend(device_name=\"H1-1E\")"
   ]
  },
  {
   "cell_type": "code",
   "execution_count": 10,
   "id": "f31770e1-ce19-4b72-8fdd-9dc3be9db186",
   "metadata": {},
   "outputs": [
    {
     "name": "stdin",
     "output_type": "stream",
     "text": [
      "Enter your Quantinuum email:  jmille15@exseed.ed.ac.uk\n",
      "Enter your Quantinuum password:  ········\n"
     ]
    },
    {
     "data": {
      "text/plain": [
       "10.0"
      ]
     },
     "execution_count": 10,
     "metadata": {},
     "output_type": "execute_result"
    }
   ],
   "source": [
    "q_backend.cost(compiled_circuit, n_shots = n_shots, syntax_checker = \"H1-1SC\")"
   ]
  },
  {
   "cell_type": "code",
   "execution_count": 13,
   "id": "05385be5-d97e-491f-b84d-6794c62a1da7",
   "metadata": {},
   "outputs": [],
   "source": [
    "results = backend.get_result(handle)"
   ]
  },
  {
   "cell_type": "code",
   "execution_count": 15,
   "id": "00c5bd70-5669-436e-a5c3-44c7f66e0dd1",
   "metadata": {},
   "outputs": [
    {
     "name": "stderr",
     "output_type": "stream",
     "text": [
      "/home/jovyan/BenchmarkingQuantinuumH1/src/helper_functions.py:202: Warning: X and Y bits are both 0, no basis change\n",
      "  warnings.warn(\"X and Y bits are both 0, no basis change\", Warning)\n"
     ]
    }
   ],
   "source": [
    "class_ran_bit = results.get_shots(cbits = circuit.get_c_register(name=\"classical_reg\"))\n",
    "z_res_rand_bit = results.get_shots(cbits = circuit.get_c_register(name='z_condition_gate_reg'))\n",
    "z_basis_rand_bit = results.get_shots(cbits = circuit.get_c_register(name='z_condition_reg'))\n",
    "x_basis_rand_bit = results.get_shots(cbits = circuit.get_c_register(name='x_condition_reg'))\n",
    "c_res_bits = [i[0] for i in class_ran_bit]\n",
    "z_res_bits = [i[0] for i in z_res_rand_bit]\n",
    "z_basis_bits = [i[0] for i in z_basis_rand_bit]\n",
    "x_basis_bits = [i[0] for i in x_basis_rand_bit]\n",
    "sdg_column = [i & j for i,j in zip(z_basis_bits,x_basis_bits)]\n",
    "basis = [hf.func_2_str_basis_letter(hf.generate_basis_from_two_bits(bit1, bit2)) for bit1,bit2 in zip(z_basis_bits,x_basis_bits)]\n",
    "shot_num = [i+1 for i in range(len(c_res_bits))]"
   ]
  },
  {
   "cell_type": "code",
   "execution_count": 16,
   "id": "4c297d18-b6c5-4fa7-8495-b6ad562aaa02",
   "metadata": {},
   "outputs": [],
   "source": [
    "df = pd.DataFrame({'Shot_num':shot_num,'Z_gate_cond_bit':z_res_bits,'Z_bit_basis':z_basis_bits,'X_bit_basis':x_basis_bits,'Sdg_gate_applied':sdg_column,'H_gate_applied':x_basis_bits,'Measure_basis':basis,'Outcome':c_res_bits})"
   ]
  },
  {
   "cell_type": "code",
   "execution_count": 18,
   "id": "a4847311-0ac4-4e01-9357-f824fe5dde45",
   "metadata": {},
   "outputs": [],
   "source": [
    "df.to_csv(data_name)"
   ]
  }
 ],
 "metadata": {
  "kernelspec": {
   "display_name": "Python 3 (ipykernel)",
   "language": "python",
   "name": "python3"
  },
  "language_info": {
   "codemirror_mode": {
    "name": "ipython",
    "version": 3
   },
   "file_extension": ".py",
   "mimetype": "text/x-python",
   "name": "python",
   "nbconvert_exporter": "python",
   "pygments_lexer": "ipython3",
   "version": "3.10.11"
  }
 },
 "nbformat": 4,
 "nbformat_minor": 5
}
