{
 "cells": [
  {
   "cell_type": "code",
   "execution_count": 1,
   "id": "8d2f1c9c-ea75-4b2c-b196-7c77a95e7456",
   "metadata": {},
   "outputs": [],
   "source": [
    "from pytket.extensions.nexus import Nexus, QuantinuumConfig\n",
    "#from pytket.extensions.quantinuum import QuantinuumBackend\n",
    "from pytket.extensions.nexus.backends import NexusBackend\n",
    "from pytket.backends.resulthandle import ResultHandle\n",
    "from pytket import Circuit\n",
    "from pytket.unit_id import BitRegister\n",
    "from pytket.circuit.display import render_circuit_jupyter\n",
    "import networkx as nx\n",
    "import matplotlib.pyplot as plt\n",
    "import math as ma \n",
    "import numpy as np\n",
    "import random as rm\n",
    "import pandas as pd\n",
    "import re\n",
    "import copy\n",
    "import warnings\n",
    "import sympy as sy\n",
    "import itertools\n",
    "import ast\n",
    "\n",
    "import sys\n",
    "from datetime import datetime\n",
    "sys.path.append('/home/jovyan/BenchmarkingQuantinuumH1/src')\n",
    "today_date = datetime.today().strftime('%Y%m%d')\n",
    "data_path = '/home/jovyan/BenchmarkingQuantinuumH1/data/'\n",
    "file_name = 'circuit_02_output_per_shots.csv'\n",
    "data_name = data_path + today_date + '_'+ file_name\n",
    "\n",
    "\n",
    "import helper_functions as hf\n",
    "import circuits_version_02 as cv2"
   ]
  },
  {
   "cell_type": "code",
   "execution_count": 2,
   "id": "cfb40a17-c14f-4001-bef8-05d0cadbf97a",
   "metadata": {},
   "outputs": [],
   "source": [
    "#my_new_quantinuum_exp = Nexus().get_project_by_name(\"UBQC\")\n",
    "#configuration = QuantinuumConfig(device_name=\"H1-1SC\", user_group=\"Default\")\n",
    "#backend = NexusBackend(configuration, my_new_quantinuum_exp)\n",
    "\n",
    "from pytket.extensions.quantinuum import QuantinuumBackend, QuantinuumAPIOffline\n",
    "api_offline = QuantinuumAPIOffline()\n",
    "backend = QuantinuumBackend(device_name=\"H1-1LE\", api_handler = api_offline)"
   ]
  },
  {
   "cell_type": "code",
   "execution_count": 3,
   "id": "9f9ef2fd-c451-4cd2-a034-a8bf8be549e2",
   "metadata": {},
   "outputs": [],
   "source": [
    "n_shots = 100"
   ]
  },
  {
   "cell_type": "code",
   "execution_count": 4,
   "id": "9698a327-4811-44fa-9071-7bfc7fdccee4",
   "metadata": {},
   "outputs": [],
   "source": [
    "circuit = cv2.circuit_02()\n",
    "compiled_circuit = backend.get_compiled_circuit(circuit)"
   ]
  },
  {
   "cell_type": "code",
   "execution_count": 38,
   "id": "c6e55c57-10d9-471d-95a6-a28f7c0748d8",
   "metadata": {},
   "outputs": [],
   "source": [
    "#backend.cost(compiled_circuit, n_shots = 10, syntax_checker = \"H1-1SC\")\n",
    "from pytket.extensions.quantinuum import QuantinuumBackend\n",
    "q_backend = QuantinuumBackend(device_name=\"H1-1E\")"
   ]
  },
  {
   "cell_type": "code",
   "execution_count": 8,
   "id": "4f2fcd6e-4cb5-40bc-9a9c-913e89d9369d",
   "metadata": {},
   "outputs": [],
   "source": [
    "handle = backend.process_circuit(compiled_circuit, n_shots=n_shots)"
   ]
  },
  {
   "cell_type": "code",
   "execution_count": 9,
   "id": "22f713aa-1909-4d5b-9fa2-5e93574156ae",
   "metadata": {},
   "outputs": [],
   "source": [
    "results = backend.get_result(handle)"
   ]
  },
  {
   "cell_type": "code",
   "execution_count": 34,
   "id": "6a5eac60-bb44-46ac-8aa5-dfe70dec5d03",
   "metadata": {},
   "outputs": [
    {
     "name": "stderr",
     "output_type": "stream",
     "text": [
      "/home/jovyan/BenchmarkingQuantinuumH1/src/helper_functions.py:202: Warning: X and Y bits are both 0, no basis change\n",
      "  warnings.warn(\"X and Y bits are both 0, no basis change\", Warning)\n"
     ]
    }
   ],
   "source": [
    "class_ran_bit = results.get_shots(cbits = circuit.get_c_register(name=\"classical_reg\"))\n",
    "pi_res_rand_bit = results.get_shots(cbits = circuit.get_c_register(name='pi_rotation_condition'))\n",
    "half_pi_res_rand_bit = results.get_shots(cbits = circuit.get_c_register(name='half_pi_rotation_condition'))\n",
    "quarter_pi_res_rand_bit = results.get_shots(cbits = circuit.get_c_register(name='quarter_pi_rotation_condition'))\n",
    "z_basis_rand_bit = results.get_shots(cbits = circuit.get_c_register(name='z_condition_reg'))\n",
    "x_basis_rand_bit = results.get_shots(cbits = circuit.get_c_register(name='x_condition_reg'))\n",
    "c_res_bits = [i[0] for i in class_ran_bit]\n",
    "pi_res_bits = [i[0] for i in pi_res_rand_bit]\n",
    "half_pi_res_bits = [i[0] for i in half_pi_res_rand_bit]\n",
    "quarter_pi_res_bits = [i[0] for i in quarter_pi_res_rand_bit]\n",
    "z_basis_bits = [i[0] for i in z_basis_rand_bit]\n",
    "x_basis_bits = [i[0] for i in x_basis_rand_bit]\n",
    "sdg_column = [i & j for i,j in zip(z_basis_bits,x_basis_bits)]\n",
    "rotation_int = [(i*2**2 + j*2**1 + k*2**0)[0] for i,j,k in zip(pi_res_rand_bit,half_pi_res_rand_bit,quarter_pi_res_rand_bit)]\n",
    "basis = [hf.func_2_str_basis_letter(hf.generate_basis_from_two_bits(bit1, bit2)) for bit1,bit2 in zip(z_basis_bits,x_basis_bits)]\n",
    "shot_num = [i+1 for i in range(len(c_res_bits))]"
   ]
  },
  {
   "cell_type": "code",
   "execution_count": 35,
   "id": "43826fc1-b32d-4ae9-a335-4fcf49f81249",
   "metadata": {},
   "outputs": [],
   "source": [
    "df = pd.DataFrame({'Shot_num':shot_num,'pi_res_bits':pi_res_bits,'half_pi_res_bits':half_pi_res_bits,'quarter_pi_res_bits':quarter_pi_res_bits,'z_bit_basis':z_basis_bits,'x_bit_basis':x_basis_bits,'Sdg_gate_applied':sdg_column,'H_gate_applied':x_basis_bits,'Rotation_int':rotation_int,'Measure_basis':basis,'Outcome':c_res_bits})"
   ]
  },
  {
   "cell_type": "code",
   "execution_count": 37,
   "id": "e0881a94-e85b-48b4-802d-b7f76b34f58c",
   "metadata": {},
   "outputs": [],
   "source": [
    "df.to_csv(data_name)"
   ]
  },
  {
   "cell_type": "code",
   "execution_count": null,
   "id": "9b64ac9c-8726-4238-b850-810c1d6bce67",
   "metadata": {},
   "outputs": [],
   "source": [
    "shot_list = range(1, 5000, 500)\n",
    "cost_est = [q_backend.cost(compiled_circuit, n_shots = i, syntax_checker = \"H1-1SC\") for i in shot_list]"
   ]
  },
  {
   "cell_type": "code",
   "execution_count": null,
   "id": "fa14402c-5fd9-4d76-9b7a-d185e4d6e69d",
   "metadata": {},
   "outputs": [],
   "source": [
    "# Plot scatter plot\n",
    "plt.scatter(shot_list, cost_est)\n",
    "\n",
    "# Add labels and title\n",
    "plt.xlabel('Number of shots')\n",
    "plt.ylabel('Estimated Cost')\n",
    "\n",
    "# Show plot\n",
    "plt.show()"
   ]
  }
 ],
 "metadata": {
  "kernelspec": {
   "display_name": "Python 3 (ipykernel)",
   "language": "python",
   "name": "python3"
  },
  "language_info": {
   "codemirror_mode": {
    "name": "ipython",
    "version": 3
   },
   "file_extension": ".py",
   "mimetype": "text/x-python",
   "name": "python",
   "nbconvert_exporter": "python",
   "pygments_lexer": "ipython3",
   "version": "3.10.11"
  }
 },
 "nbformat": 4,
 "nbformat_minor": 5
}
